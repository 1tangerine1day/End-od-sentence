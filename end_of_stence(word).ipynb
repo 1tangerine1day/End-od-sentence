{
 "cells": [
  {
   "cell_type": "code",
   "execution_count": 86,
   "metadata": {},
   "outputs": [],
   "source": [
    "import torch\n",
    "import torch.nn as nn\n",
    "import torch.nn.functional as F\n",
    "import torch.optim as optim\n",
    "\n",
    "import spacy\n",
    "nlp = spacy.load('en')"
   ]
  },
  {
   "cell_type": "code",
   "execution_count": 87,
   "metadata": {},
   "outputs": [],
   "source": [
    "def prepare_sequence(seq, to_ix):\n",
    "    idxs = []\n",
    "    for w in seq:\n",
    "        if w in to_ix:\n",
    "            idxs += [to_ix[w]]\n",
    "        else:\n",
    "            idxs += [0]\n",
    "\n",
    "    return torch.tensor(idxs, dtype=torch.long)"
   ]
  },
  {
   "cell_type": "code",
   "execution_count": 88,
   "metadata": {},
   "outputs": [],
   "source": [
    "def prepare_lable(size,lable):\n",
    "    temp = []\n",
    "    for i in range(size -1):\n",
    "        temp += [0]   \n",
    "    if lable == 1:\n",
    "        temp += [1]\n",
    "    else:\n",
    "        temp += [0]\n",
    "    \n",
    "    return torch.tensor(temp, dtype=torch.long)"
   ]
  },
  {
   "cell_type": "code",
   "execution_count": 89,
   "metadata": {},
   "outputs": [],
   "source": [
    "def get_split(sentence):\n",
    "    doc = nlp(sentence)\n",
    "    return [(w.text) for w in doc]"
   ]
  },
  {
   "cell_type": "code",
   "execution_count": 100,
   "metadata": {},
   "outputs": [
    {
     "name": "stdout",
     "output_type": "stream",
     "text": [
      "['I', 'can', 'write', 'C.', 'Show', 'me', 'the', 'money']\n",
      "[(['I', 'live', 'in', 'U.S.'], 0), (['He', 'is', 'dr', '.', 'eye'], 0), (['This', 'car', 'is', '3.8', 'million', 'dollor'], 0), (['I', 'want', 'to', 'go', 'home', '.', 'This', 'is', 'my', 'dog'], 1), (['I', 'can', 'write', 'C.', 'Show', 'me', 'the', 'money'], 1), (['His', 'name', 'is', 'C.Lab'], 0)]\n"
     ]
    }
   ],
   "source": [
    "training_data = [\n",
    "    (get_split(\"I live in U.S.\"), 0),\n",
    "    (get_split(\"He is dr. Jone\"), 0),\n",
    "    (get_split(\"This car is 3.8 million dollor\"), 0),\n",
    "    (get_split(\"I want to go home. This is my dog\"), 1),\n",
    "    (get_split(\"I can write C. Show me the money\"), 1),\n",
    "    (get_split(\"His name is C.Lab\"), 0),\n",
    "\n",
    "]\n",
    "print(training_data)"
   ]
  },
  {
   "cell_type": "code",
   "execution_count": 91,
   "metadata": {
    "scrolled": true
   },
   "outputs": [
    {
     "name": "stdout",
     "output_type": "stream",
     "text": [
      "{'unknow': 0, 'I': 1, 'live': 2, 'in': 3, 'U.S.': 4, 'He': 5, 'is': 6, 'dr': 7, '.': 8, 'eye': 9, 'This': 10, 'car': 11, '3.8': 12, 'million': 13, 'dollor': 14, 'want': 15, 'to': 16, 'go': 17, 'home': 18, 'my': 19, 'dog': 20, 'can': 21, 'write': 22, 'C.': 23, 'Show': 24, 'me': 25, 'the': 26, 'money': 27, 'His': 28, 'name': 29, 'C.Lab': 30}\n",
      "tensor([1, 2, 3, 4])\n",
      "tensor([0, 0, 0, 0])\n",
      "tensor([5, 6, 7, 8, 9])\n",
      "tensor([0, 0, 0, 0, 0])\n"
     ]
    }
   ],
   "source": [
    "word_to_ix = {'unknow':0}\n",
    "for sent, tags in training_data:\n",
    "    for word in sent:\n",
    "        if word not in word_to_ix:\n",
    "            word_to_ix[word] = len(word_to_ix)            \n",
    "print(word_to_ix)\n",
    "\n",
    "\n",
    "\n",
    "print(prepare_sequence(training_data[0][0], word_to_ix))\n",
    "print(prepare_lable(len(training_data[0][0]),training_data[0][1]))\n",
    "print(prepare_sequence(training_data[1][0], word_to_ix))\n",
    "print(prepare_lable(len(training_data[1][0]),training_data[1][1]))"
   ]
  },
  {
   "cell_type": "code",
   "execution_count": 92,
   "metadata": {},
   "outputs": [],
   "source": [
    "class LSTMTagger(nn.Module):\n",
    "\n",
    "    def __init__(self, embedding_dim, hidden_dim, vocab_size, tagset_size):\n",
    "        super(LSTMTagger, self).__init__()\n",
    "        self.hidden_dim = hidden_dim\n",
    "\n",
    "        self.word_embeddings = nn.Embedding(vocab_size, embedding_dim)\n",
    "\n",
    "        # The LSTM takes word embeddings as inputs, and outputs hidden states\n",
    "        # with dimensionality hidden_dim.\n",
    "        self.lstm = nn.LSTM(embedding_dim, hidden_dim)\n",
    "\n",
    "        # The linear layer that maps from hidden state space to tag space\n",
    "        self.hidden2tag = nn.Linear(hidden_dim, tagset_size)\n",
    "        self.hidden = self.init_hidden()\n",
    "\n",
    "    def init_hidden(self):\n",
    "        # Before we've done anything, we dont have any hidden state.\n",
    "        # Refer to the Pytorch documentation to see exactly\n",
    "        # why they have this dimensionality.\n",
    "        # The axes semantics are (num_layers, minibatch_size, hidden_dim)\n",
    "        return (torch.zeros(1, 1, self.hidden_dim),\n",
    "                torch.zeros(1, 1, self.hidden_dim))\n",
    "\n",
    "    def forward(self, sentence):\n",
    "        embeds = self.word_embeddings(sentence)\n",
    "        lstm_out, self.hidden = self.lstm(\n",
    "            embeds.view(len(sentence), 1, -1), self.hidden)\n",
    "        tag_space = self.hidden2tag(lstm_out.view(len(sentence), -1))\n",
    "        tag_scores = F.log_softmax(tag_space, dim=1)\n",
    "        #tag_scores = torch.sigmoid(tag_scores)\n",
    "        return tag_scores"
   ]
  },
  {
   "cell_type": "code",
   "execution_count": 97,
   "metadata": {},
   "outputs": [],
   "source": [
    "EMBEDDING_DIM = 6\n",
    "HIDDEN_DIM = 6\n",
    "\n",
    "model = LSTMTagger(EMBEDDING_DIM, HIDDEN_DIM, len(word_to_ix), 2)\n",
    "loss_function = nn.NLLLoss()\n",
    "optimizer = optim.SGD(model.parameters(), lr=0.1)\n",
    "\n",
    "for epoch in range(300):  # again, normally you would NOT do 300 epochs, it is toy data\n",
    "    for sentence, lable in training_data:\n",
    "        # Step 1. Remember that Pytorch accumulates gradients.\n",
    "        # We need to clear them out before each instance\n",
    "        model.zero_grad()\n",
    "\n",
    "        # Also, we need to clear out the hidden state of the LSTM,\n",
    "        # detaching it from its history on the last instance.\n",
    "        model.hidden = model.init_hidden()\n",
    "\n",
    "        # Step 2. Get our inputs ready for the network, that is, turn them into\n",
    "        # Tensors of word indices.\n",
    "        sentence_in = prepare_sequence(sentence, word_to_ix)\n",
    "        targets = prepare_lable(len(sentence),lable)\n",
    "        \n",
    "        # Step 3. Run our forward pass.\n",
    "        tag_scores = model(sentence_in)\n",
    "\n",
    "        # Step 4. Compute the loss, gradients, and update the parameters by\n",
    "        #  calling optimizer.step()\n",
    "        loss = loss_function(tag_scores, targets)\n",
    "        loss.backward()\n",
    "        optimizer.step()\n",
    "        \n",
    "    #print(epoch)\n",
    "    "
   ]
  },
  {
   "cell_type": "code",
   "execution_count": 98,
   "metadata": {},
   "outputs": [
    {
     "name": "stdout",
     "output_type": "stream",
     "text": [
      "tensor([[-0.0008, -7.0803],\n",
      "        [-0.0020, -6.2236],\n",
      "        [-0.0020, -6.2344],\n",
      "        [-0.0012, -6.6883],\n",
      "        [-0.0009, -6.9855],\n",
      "        [-0.0003, -8.0144],\n",
      "        [-0.0012, -6.7018]], grad_fn=<LogSoftmaxBackward>)\n"
     ]
    }
   ],
   "source": [
    "inputs = prepare_sequence(get_split(\"I am happy.He is happy\"), word_to_ix)\n",
    "tag_scores = model(inputs)\n",
    "print(tag_scores)"
   ]
  },
  {
   "cell_type": "code",
   "execution_count": 99,
   "metadata": {},
   "outputs": [
    {
     "name": "stdout",
     "output_type": "stream",
     "text": [
      "tensor([[-0.0012, -6.6932],\n",
      "        [-0.0003, -8.0512],\n",
      "        [-0.0011, -6.7908],\n",
      "        [-0.0016, -6.4621],\n",
      "        [-0.0017, -6.3778]], grad_fn=<LogSoftmaxBackward>)\n"
     ]
    }
   ],
   "source": [
    "inputs = prepare_sequence(get_split(\"He is 1.9 feet tall\"), word_to_ix)\n",
    "tag_scores = model(inputs)\n",
    "print(tag_scores)"
   ]
  },
  {
   "cell_type": "code",
   "execution_count": 101,
   "metadata": {},
   "outputs": [
    {
     "name": "stdout",
     "output_type": "stream",
     "text": [
      "tensor([[-0.0015, -6.4790],\n",
      "        [-0.0003, -8.0236],\n",
      "        [-0.0003, -8.1856],\n",
      "        [-0.0002, -8.3515],\n",
      "        [-0.0011, -6.8087]], grad_fn=<LogSoftmaxBackward>)\n"
     ]
    }
   ],
   "source": [
    "inputs = prepare_sequence(get_split(\"He is dr. Jone\"), word_to_ix)\n",
    "tag_scores = model(inputs)\n",
    "print(tag_scores)"
   ]
  },
  {
   "cell_type": "code",
   "execution_count": 102,
   "metadata": {},
   "outputs": [
    {
     "name": "stdout",
     "output_type": "stream",
     "text": [
      "tensor([[-0.0006, -7.4435],\n",
      "        [-0.0007, -7.3367],\n",
      "        [-0.0003, -8.0805],\n",
      "        [-0.0016, -6.4397],\n",
      "        [-0.0012, -6.7220],\n",
      "        [-0.0025, -6.0093],\n",
      "        [-0.0030, -5.8151],\n",
      "        [-0.0025, -5.9760],\n",
      "        [-0.0082, -4.8086],\n",
      "        [-1.6479, -0.2137]], grad_fn=<LogSoftmaxBackward>)\n"
     ]
    }
   ],
   "source": [
    "inputs = prepare_sequence(get_split(\"I want to go home. This is my dog\"), word_to_ix)\n",
    "tag_scores = model(inputs)\n",
    "print(tag_scores)"
   ]
  },
  {
   "cell_type": "code",
   "execution_count": null,
   "metadata": {},
   "outputs": [],
   "source": []
  }
 ],
 "metadata": {
  "kernelspec": {
   "display_name": "Python 3",
   "language": "python",
   "name": "python3"
  },
  "language_info": {
   "codemirror_mode": {
    "name": "ipython",
    "version": 3
   },
   "file_extension": ".py",
   "mimetype": "text/x-python",
   "name": "python",
   "nbconvert_exporter": "python",
   "pygments_lexer": "ipython3",
   "version": "3.6.5"
  }
 },
 "nbformat": 4,
 "nbformat_minor": 2
}
